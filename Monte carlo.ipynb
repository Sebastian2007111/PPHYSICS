{
 "cells": [
  {
   "cell_type": "code",
   "execution_count": 24,
   "id": "1d4cdec5-d98d-4fce-834d-0a62ce4520fa",
   "metadata": {},
   "outputs": [
    {
     "name": "stdout",
     "output_type": "stream",
     "text": [
      "Estimated Pi: 3.14046\n"
     ]
    }
   ],
   "source": [
    "import random\n",
    "\n",
    "# Amount of random samples\n",
    "num_samples = 1000000\n",
    "\n",
    "inside_circle = 0\n",
    "\n",
    "for i in range(num_samples):\n",
    "    # Generate a random x-coordinate between -1 and 1\n",
    "    x = random.uniform(-1, 1)\n",
    "    # Generate a random y-coordinate between -1 and 1\n",
    "    y = random.uniform(-1, 1)\n",
    "    \n",
    "    # Check if the point (x, y) is inside the unit circle\n",
    "    if x**2 + y**2 <= 1:\n",
    "        inside_circle += 1  # Add to the count if the point is inside the circle\n",
    "\n",
    "# Calculate the estimated value of Pi\n",
    "pi_estimate = 4 * inside_circle / num_samples\n",
    "\n",
    "# Display the estimated value of Pi\n",
    "print(f\"Estimated Pi: {pi_estimate}\")\n"
   ]
  },
  {
   "cell_type": "code",
   "execution_count": null,
   "id": "072a73f9-d4ef-4637-9d5c-b61839d90faa",
   "metadata": {},
   "outputs": [],
   "source": []
  },
  {
   "cell_type": "code",
   "execution_count": null,
   "id": "c1be0b25-a0a9-4b33-a788-f83c79782c9d",
   "metadata": {},
   "outputs": [],
   "source": []
  }
 ],
 "metadata": {
  "kernelspec": {
   "display_name": "Python [conda env:base] *",
   "language": "python",
   "name": "conda-base-py"
  },
  "language_info": {
   "codemirror_mode": {
    "name": "ipython",
    "version": 3
   },
   "file_extension": ".py",
   "mimetype": "text/x-python",
   "name": "python",
   "nbconvert_exporter": "python",
   "pygments_lexer": "ipython3",
   "version": "3.12.7"
  }
 },
 "nbformat": 4,
 "nbformat_minor": 5
}
