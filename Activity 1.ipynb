{
 "cells": [
  {
   "cell_type": "code",
   "execution_count": null,
   "id": "5551e3cc-6285-486e-81e3-668175f7541b",
   "metadata": {},
   "outputs": [
    {
     "name": "stdout",
     "output_type": "stream",
     "text": [
      "Welcome to Wordle!\n"
     ]
    }
   ],
   "source": [
    "import random\n",
    "\n",
    "def choose_word():\n",
    "    \"\"\"Randomly choose a 5-letter word from a predefined list.\"\"\"\n",
    "    words = [\"apple\", \"grape\", \"bread\", \"plane\", \"brick\", \"shade\", \"light\", \"grain\"]\n",
    "    return random.choice(words)\n",
    "\n",
    "def get_feedback(guess, target):\n",
    "    \"\"\"Generate feedback for a guess compared to the target word.\"\"\"\n",
    "    feedback = []\n",
    "    for i, letter in enumerate(guess):\n",
    "        if letter == target[i]:\n",
    "            feedback.append(\"G\")  # Correct letter in the correct position (Green)\n",
    "        elif letter in target:\n",
    "            feedback.append(\"Y\")  # Correct letter in the wrong position (Yellow)\n",
    "        else:\n",
    "            feedback.append(\"_\")  # Incorrect letter (Gray)\n",
    "    return \"\".join(feedback)\n",
    "\n",
    "def wordle_game():\n",
    "    \"\"\"Main function to play the Wordle game.\"\"\"\n",
    "    print(\"Welcome to Wordle!\")\n",
    "    target_word = choose_word()\n",
    "    attempts = 6\n",
    "\n",
    "    for attempt in range(1, attempts + 1):\n",
    "        while True:\n",
    "            guess = input(f\"Attempt {attempt}/{attempts}: Enter your 5-letter guess: \").lower()\n",
    "            if len(guess) == 5 and guess.isalpha():\n",
    "                break\n",
    "            print(\"Invalid input. Please enter a 5-letter word.\")\n",
    "\n",
    "        feedback = get_feedback(guess, target_word)\n",
    "        print(f\"Feedback: {feedback}\")\n",
    "\n",
    "        if guess == target_word:\n",
    "            print(f\"Congratulations! You guessed the word '{target_word}' in {attempt} attempts.\")\n",
    "            return\n",
    "\n",
    "    print(f\"Sorry, you've used all your attempts. The word was '{target_word}'.\")\n",
    "\n",
    "if __name__ == \"__main__\":\n",
    "    wordle_game()"
   ]
  },
  {
   "cell_type": "code",
   "execution_count": null,
   "id": "3f961fd4-5dfe-4c67-8c1f-37f238ef3d38",
   "metadata": {},
   "outputs": [],
   "source": []
  }
 ],
 "metadata": {
  "kernelspec": {
   "display_name": "Python [conda env:base] *",
   "language": "python",
   "name": "conda-base-py"
  },
  "language_info": {
   "codemirror_mode": {
    "name": "ipython",
    "version": 3
   },
   "file_extension": ".py",
   "mimetype": "text/x-python",
   "name": "python",
   "nbconvert_exporter": "python",
   "pygments_lexer": "ipython3",
   "version": "3.12.7"
  }
 },
 "nbformat": 4,
 "nbformat_minor": 5
}
